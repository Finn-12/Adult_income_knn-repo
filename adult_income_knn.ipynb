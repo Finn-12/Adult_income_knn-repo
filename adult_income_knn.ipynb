{
 "cells": [
  {
   "cell_type": "markdown",
   "id": "646b6056",
   "metadata": {},
   "source": [
    "kaggle link: https://www.kaggle.com/datasets/wenruliu/adult-income-dataset"
   ]
  },
  {
   "cell_type": "code",
   "execution_count": 16,
   "id": "82e51374",
   "metadata": {},
   "outputs": [
    {
     "name": "stderr",
     "output_type": "stream",
     "text": [
      "Installing package into 'C:/Users/phuon/AppData/Local/R/win-library/4.3'\n",
      "(as 'lib' is unspecified)\n",
      "\n"
     ]
    },
    {
     "name": "stdout",
     "output_type": "stream",
     "text": [
      "package 'dplyr' successfully unpacked and MD5 sums checked\n",
      "\n",
      "The downloaded binary packages are in\n",
      "\tC:\\Users\\phuon\\AppData\\Local\\Temp\\RtmpczQJSi\\downloaded_packages\n"
     ]
    },
    {
     "name": "stderr",
     "output_type": "stream",
     "text": [
      "Installing package into 'C:/Users/phuon/AppData/Local/R/win-library/4.3'\n",
      "(as 'lib' is unspecified)\n",
      "\n"
     ]
    },
    {
     "name": "stdout",
     "output_type": "stream",
     "text": [
      "package 'ggplot2' successfully unpacked and MD5 sums checked\n",
      "\n",
      "The downloaded binary packages are in\n",
      "\tC:\\Users\\phuon\\AppData\\Local\\Temp\\RtmpczQJSi\\downloaded_packages\n"
     ]
    }
   ],
   "source": [
    "install.packages(\"dplyr\")\n",
    "install.packages(\"ggplot2\")\n"
   ]
  },
  {
   "cell_type": "code",
   "execution_count": 17,
   "id": "b3dd805e",
   "metadata": {},
   "outputs": [
    {
     "name": "stderr",
     "output_type": "stream",
     "text": [
      "\n",
      "Attaching package: 'dplyr'\n",
      "\n",
      "\n",
      "The following objects are masked from 'package:stats':\n",
      "\n",
      "    filter, lag\n",
      "\n",
      "\n",
      "The following objects are masked from 'package:base':\n",
      "\n",
      "    intersect, setdiff, setequal, union\n",
      "\n",
      "\n"
     ]
    }
   ],
   "source": [
    "library(dplyr)\n",
    "\n",
    "# Read the dataset\n",
    "data <- read.csv(\"adult.csv\")"
   ]
  },
  {
   "cell_type": "code",
   "execution_count": 4,
   "id": "bade83df",
   "metadata": {},
   "outputs": [
    {
     "data": {
      "text/html": [
       "<table class=\"dataframe\">\n",
       "<caption>A data.frame: 6 × 15</caption>\n",
       "<thead>\n",
       "\t<tr><th></th><th scope=col>age</th><th scope=col>workclass</th><th scope=col>fnlwgt</th><th scope=col>education</th><th scope=col>educational.num</th><th scope=col>marital.status</th><th scope=col>occupation</th><th scope=col>relationship</th><th scope=col>race</th><th scope=col>gender</th><th scope=col>capital.gain</th><th scope=col>capital.loss</th><th scope=col>hours.per.week</th><th scope=col>native.country</th><th scope=col>income</th></tr>\n",
       "\t<tr><th></th><th scope=col>&lt;int&gt;</th><th scope=col>&lt;chr&gt;</th><th scope=col>&lt;int&gt;</th><th scope=col>&lt;chr&gt;</th><th scope=col>&lt;int&gt;</th><th scope=col>&lt;chr&gt;</th><th scope=col>&lt;chr&gt;</th><th scope=col>&lt;chr&gt;</th><th scope=col>&lt;chr&gt;</th><th scope=col>&lt;chr&gt;</th><th scope=col>&lt;int&gt;</th><th scope=col>&lt;int&gt;</th><th scope=col>&lt;int&gt;</th><th scope=col>&lt;chr&gt;</th><th scope=col>&lt;chr&gt;</th></tr>\n",
       "</thead>\n",
       "<tbody>\n",
       "\t<tr><th scope=row>1</th><td>25</td><td><span style=white-space:pre-wrap>Private  </span></td><td>226802</td><td><span style=white-space:pre-wrap>11th        </span></td><td> 7</td><td><span style=white-space:pre-wrap>Never-married     </span></td><td>Machine-op-inspct</td><td><span style=white-space:pre-wrap>Own-child    </span></td><td>Black</td><td><span style=white-space:pre-wrap>Male  </span></td><td><span style=white-space:pre-wrap>   0</span></td><td>0</td><td>40</td><td>United-States</td><td>&lt;=50K</td></tr>\n",
       "\t<tr><th scope=row>2</th><td>38</td><td><span style=white-space:pre-wrap>Private  </span></td><td> 89814</td><td><span style=white-space:pre-wrap>HS-grad     </span></td><td> 9</td><td>Married-civ-spouse</td><td><span style=white-space:pre-wrap>Farming-fishing  </span></td><td><span style=white-space:pre-wrap>Husband      </span></td><td>White</td><td><span style=white-space:pre-wrap>Male  </span></td><td><span style=white-space:pre-wrap>   0</span></td><td>0</td><td>50</td><td>United-States</td><td>&lt;=50K</td></tr>\n",
       "\t<tr><th scope=row>3</th><td>28</td><td>Local-gov</td><td>336951</td><td><span style=white-space:pre-wrap>Assoc-acdm  </span></td><td>12</td><td>Married-civ-spouse</td><td><span style=white-space:pre-wrap>Protective-serv  </span></td><td><span style=white-space:pre-wrap>Husband      </span></td><td>White</td><td><span style=white-space:pre-wrap>Male  </span></td><td><span style=white-space:pre-wrap>   0</span></td><td>0</td><td>40</td><td>United-States</td><td>&gt;50K </td></tr>\n",
       "\t<tr><th scope=row>4</th><td>44</td><td><span style=white-space:pre-wrap>Private  </span></td><td>160323</td><td>Some-college</td><td>10</td><td>Married-civ-spouse</td><td>Machine-op-inspct</td><td><span style=white-space:pre-wrap>Husband      </span></td><td>Black</td><td><span style=white-space:pre-wrap>Male  </span></td><td>7688</td><td>0</td><td>40</td><td>United-States</td><td>&gt;50K </td></tr>\n",
       "\t<tr><th scope=row>5</th><td>18</td><td><span style=white-space:pre-wrap>?        </span></td><td>103497</td><td>Some-college</td><td>10</td><td><span style=white-space:pre-wrap>Never-married     </span></td><td><span style=white-space:pre-wrap>?                </span></td><td><span style=white-space:pre-wrap>Own-child    </span></td><td>White</td><td>Female</td><td><span style=white-space:pre-wrap>   0</span></td><td>0</td><td>30</td><td>United-States</td><td>&lt;=50K</td></tr>\n",
       "\t<tr><th scope=row>6</th><td>34</td><td><span style=white-space:pre-wrap>Private  </span></td><td>198693</td><td><span style=white-space:pre-wrap>10th        </span></td><td> 6</td><td><span style=white-space:pre-wrap>Never-married     </span></td><td><span style=white-space:pre-wrap>Other-service    </span></td><td>Not-in-family</td><td>White</td><td><span style=white-space:pre-wrap>Male  </span></td><td><span style=white-space:pre-wrap>   0</span></td><td>0</td><td>30</td><td>United-States</td><td>&lt;=50K</td></tr>\n",
       "</tbody>\n",
       "</table>\n"
      ],
      "text/latex": [
       "A data.frame: 6 × 15\n",
       "\\begin{tabular}{r|lllllllllllllll}\n",
       "  & age & workclass & fnlwgt & education & educational.num & marital.status & occupation & relationship & race & gender & capital.gain & capital.loss & hours.per.week & native.country & income\\\\\n",
       "  & <int> & <chr> & <int> & <chr> & <int> & <chr> & <chr> & <chr> & <chr> & <chr> & <int> & <int> & <int> & <chr> & <chr>\\\\\n",
       "\\hline\n",
       "\t1 & 25 & Private   & 226802 & 11th         &  7 & Never-married      & Machine-op-inspct & Own-child     & Black & Male   &    0 & 0 & 40 & United-States & <=50K\\\\\n",
       "\t2 & 38 & Private   &  89814 & HS-grad      &  9 & Married-civ-spouse & Farming-fishing   & Husband       & White & Male   &    0 & 0 & 50 & United-States & <=50K\\\\\n",
       "\t3 & 28 & Local-gov & 336951 & Assoc-acdm   & 12 & Married-civ-spouse & Protective-serv   & Husband       & White & Male   &    0 & 0 & 40 & United-States & >50K \\\\\n",
       "\t4 & 44 & Private   & 160323 & Some-college & 10 & Married-civ-spouse & Machine-op-inspct & Husband       & Black & Male   & 7688 & 0 & 40 & United-States & >50K \\\\\n",
       "\t5 & 18 & ?         & 103497 & Some-college & 10 & Never-married      & ?                 & Own-child     & White & Female &    0 & 0 & 30 & United-States & <=50K\\\\\n",
       "\t6 & 34 & Private   & 198693 & 10th         &  6 & Never-married      & Other-service     & Not-in-family & White & Male   &    0 & 0 & 30 & United-States & <=50K\\\\\n",
       "\\end{tabular}\n"
      ],
      "text/markdown": [
       "\n",
       "A data.frame: 6 × 15\n",
       "\n",
       "| <!--/--> | age &lt;int&gt; | workclass &lt;chr&gt; | fnlwgt &lt;int&gt; | education &lt;chr&gt; | educational.num &lt;int&gt; | marital.status &lt;chr&gt; | occupation &lt;chr&gt; | relationship &lt;chr&gt; | race &lt;chr&gt; | gender &lt;chr&gt; | capital.gain &lt;int&gt; | capital.loss &lt;int&gt; | hours.per.week &lt;int&gt; | native.country &lt;chr&gt; | income &lt;chr&gt; |\n",
       "|---|---|---|---|---|---|---|---|---|---|---|---|---|---|---|---|\n",
       "| 1 | 25 | Private   | 226802 | 11th         |  7 | Never-married      | Machine-op-inspct | Own-child     | Black | Male   |    0 | 0 | 40 | United-States | &lt;=50K |\n",
       "| 2 | 38 | Private   |  89814 | HS-grad      |  9 | Married-civ-spouse | Farming-fishing   | Husband       | White | Male   |    0 | 0 | 50 | United-States | &lt;=50K |\n",
       "| 3 | 28 | Local-gov | 336951 | Assoc-acdm   | 12 | Married-civ-spouse | Protective-serv   | Husband       | White | Male   |    0 | 0 | 40 | United-States | &gt;50K  |\n",
       "| 4 | 44 | Private   | 160323 | Some-college | 10 | Married-civ-spouse | Machine-op-inspct | Husband       | Black | Male   | 7688 | 0 | 40 | United-States | &gt;50K  |\n",
       "| 5 | 18 | ?         | 103497 | Some-college | 10 | Never-married      | ?                 | Own-child     | White | Female |    0 | 0 | 30 | United-States | &lt;=50K |\n",
       "| 6 | 34 | Private   | 198693 | 10th         |  6 | Never-married      | Other-service     | Not-in-family | White | Male   |    0 | 0 | 30 | United-States | &lt;=50K |\n",
       "\n"
      ],
      "text/plain": [
       "  age workclass fnlwgt education    educational.num marital.status    \n",
       "1 25  Private   226802 11th          7              Never-married     \n",
       "2 38  Private    89814 HS-grad       9              Married-civ-spouse\n",
       "3 28  Local-gov 336951 Assoc-acdm   12              Married-civ-spouse\n",
       "4 44  Private   160323 Some-college 10              Married-civ-spouse\n",
       "5 18  ?         103497 Some-college 10              Never-married     \n",
       "6 34  Private   198693 10th          6              Never-married     \n",
       "  occupation        relationship  race  gender capital.gain capital.loss\n",
       "1 Machine-op-inspct Own-child     Black Male      0         0           \n",
       "2 Farming-fishing   Husband       White Male      0         0           \n",
       "3 Protective-serv   Husband       White Male      0         0           \n",
       "4 Machine-op-inspct Husband       Black Male   7688         0           \n",
       "5 ?                 Own-child     White Female    0         0           \n",
       "6 Other-service     Not-in-family White Male      0         0           \n",
       "  hours.per.week native.country income\n",
       "1 40             United-States  <=50K \n",
       "2 50             United-States  <=50K \n",
       "3 40             United-States  >50K  \n",
       "4 40             United-States  >50K  \n",
       "5 30             United-States  <=50K \n",
       "6 30             United-States  <=50K "
      ]
     },
     "metadata": {},
     "output_type": "display_data"
    }
   ],
   "source": [
    "head(data)"
   ]
  },
  {
   "cell_type": "code",
   "execution_count": 5,
   "id": "36833c03",
   "metadata": {},
   "outputs": [
    {
     "data": {
      "text/html": [
       "<style>\n",
       ".list-inline {list-style: none; margin:0; padding: 0}\n",
       ".list-inline>li {display: inline-block}\n",
       ".list-inline>li:not(:last-child)::after {content: \"\\00b7\"; padding: 0 .5ex}\n",
       "</style>\n",
       "<ol class=list-inline><li>48842</li><li>15</li></ol>\n"
      ],
      "text/latex": [
       "\\begin{enumerate*}\n",
       "\\item 48842\n",
       "\\item 15\n",
       "\\end{enumerate*}\n"
      ],
      "text/markdown": [
       "1. 48842\n",
       "2. 15\n",
       "\n",
       "\n"
      ],
      "text/plain": [
       "[1] 48842    15"
      ]
     },
     "metadata": {},
     "output_type": "display_data"
    }
   ],
   "source": [
    "dim(data)"
   ]
  },
  {
   "cell_type": "code",
   "execution_count": 6,
   "id": "510d0cdf",
   "metadata": {},
   "outputs": [
    {
     "data": {
      "text/plain": [
       "      age         workclass             fnlwgt         education        \n",
       " Min.   :17.00   Length:48842       Min.   :  12285   Length:48842      \n",
       " 1st Qu.:28.00   Class :character   1st Qu.: 117551   Class :character  \n",
       " Median :37.00   Mode  :character   Median : 178145   Mode  :character  \n",
       " Mean   :38.64                      Mean   : 189664                     \n",
       " 3rd Qu.:48.00                      3rd Qu.: 237642                     \n",
       " Max.   :90.00                      Max.   :1490400                     \n",
       " educational.num marital.status      occupation        relationship      \n",
       " Min.   : 1.00   Length:48842       Length:48842       Length:48842      \n",
       " 1st Qu.: 9.00   Class :character   Class :character   Class :character  \n",
       " Median :10.00   Mode  :character   Mode  :character   Mode  :character  \n",
       " Mean   :10.08                                                           \n",
       " 3rd Qu.:12.00                                                           \n",
       " Max.   :16.00                                                           \n",
       "     race              gender           capital.gain    capital.loss   \n",
       " Length:48842       Length:48842       Min.   :    0   Min.   :   0.0  \n",
       " Class :character   Class :character   1st Qu.:    0   1st Qu.:   0.0  \n",
       " Mode  :character   Mode  :character   Median :    0   Median :   0.0  \n",
       "                                       Mean   : 1079   Mean   :  87.5  \n",
       "                                       3rd Qu.:    0   3rd Qu.:   0.0  \n",
       "                                       Max.   :99999   Max.   :4356.0  \n",
       " hours.per.week  native.country        income         \n",
       " Min.   : 1.00   Length:48842       Length:48842      \n",
       " 1st Qu.:40.00   Class :character   Class :character  \n",
       " Median :40.00   Mode  :character   Mode  :character  \n",
       " Mean   :40.42                                        \n",
       " 3rd Qu.:45.00                                        \n",
       " Max.   :99.00                                        "
      ]
     },
     "metadata": {},
     "output_type": "display_data"
    }
   ],
   "source": [
    "summary(data)"
   ]
  },
  {
   "cell_type": "code",
   "execution_count": 7,
   "id": "2bcfe1cd",
   "metadata": {},
   "outputs": [
    {
     "data": {
      "text/html": [
       "<style>\n",
       ".dl-inline {width: auto; margin:0; padding: 0}\n",
       ".dl-inline>dt, .dl-inline>dd {float: none; width: auto; display: inline-block}\n",
       ".dl-inline>dt::after {content: \":\\0020\"; padding-right: .5ex}\n",
       ".dl-inline>dt:not(:first-of-type) {padding-left: .5ex}\n",
       "</style><dl class=dl-inline><dt>age</dt><dd>'integer'</dd><dt>workclass</dt><dd>'character'</dd><dt>fnlwgt</dt><dd>'integer'</dd><dt>education</dt><dd>'character'</dd><dt>educational.num</dt><dd>'integer'</dd><dt>marital.status</dt><dd>'character'</dd><dt>occupation</dt><dd>'character'</dd><dt>relationship</dt><dd>'character'</dd><dt>race</dt><dd>'character'</dd><dt>gender</dt><dd>'character'</dd><dt>capital.gain</dt><dd>'integer'</dd><dt>capital.loss</dt><dd>'integer'</dd><dt>hours.per.week</dt><dd>'integer'</dd><dt>native.country</dt><dd>'character'</dd><dt>income</dt><dd>'character'</dd></dl>\n"
      ],
      "text/latex": [
       "\\begin{description*}\n",
       "\\item[age] 'integer'\n",
       "\\item[workclass] 'character'\n",
       "\\item[fnlwgt] 'integer'\n",
       "\\item[education] 'character'\n",
       "\\item[educational.num] 'integer'\n",
       "\\item[marital.status] 'character'\n",
       "\\item[occupation] 'character'\n",
       "\\item[relationship] 'character'\n",
       "\\item[race] 'character'\n",
       "\\item[gender] 'character'\n",
       "\\item[capital.gain] 'integer'\n",
       "\\item[capital.loss] 'integer'\n",
       "\\item[hours.per.week] 'integer'\n",
       "\\item[native.country] 'character'\n",
       "\\item[income] 'character'\n",
       "\\end{description*}\n"
      ],
      "text/markdown": [
       "age\n",
       ":   'integer'workclass\n",
       ":   'character'fnlwgt\n",
       ":   'integer'education\n",
       ":   'character'educational.num\n",
       ":   'integer'marital.status\n",
       ":   'character'occupation\n",
       ":   'character'relationship\n",
       ":   'character'race\n",
       ":   'character'gender\n",
       ":   'character'capital.gain\n",
       ":   'integer'capital.loss\n",
       ":   'integer'hours.per.week\n",
       ":   'integer'native.country\n",
       ":   'character'income\n",
       ":   'character'\n",
       "\n"
      ],
      "text/plain": [
       "            age       workclass          fnlwgt       education educational.num \n",
       "      \"integer\"     \"character\"       \"integer\"     \"character\"       \"integer\" \n",
       " marital.status      occupation    relationship            race          gender \n",
       "    \"character\"     \"character\"     \"character\"     \"character\"     \"character\" \n",
       "   capital.gain    capital.loss  hours.per.week  native.country          income \n",
       "      \"integer\"       \"integer\"       \"integer\"     \"character\"     \"character\" "
      ]
     },
     "metadata": {},
     "output_type": "display_data"
    }
   ],
   "source": [
    "sapply(data, class)"
   ]
  },
  {
   "cell_type": "markdown",
   "id": "f83d35ae",
   "metadata": {},
   "source": [
    "### Error Handling"
   ]
  },
  {
   "cell_type": "code",
   "execution_count": 3,
   "id": "f1e4f901",
   "metadata": {},
   "outputs": [
    {
     "name": "stdout",
     "output_type": "stream",
     "text": [
      " [1] \"age\"             \"workclass\"       \"fnlwgt\"          \"education\"      \n",
      " [5] \"educational.num\" \"marital.status\"  \"occupation\"      \"relationship\"   \n",
      " [9] \"race\"            \"gender\"          \"capital.gain\"    \"capital.loss\"   \n",
      "[13] \"hours.per.week\"  \"native.country\"  \"income\"         \n"
     ]
    }
   ],
   "source": [
    "# List all the columns\n",
    "columns <- colnames(data)\n",
    "print(columns)"
   ]
  },
  {
   "cell_type": "markdown",
   "id": "97e0c78a",
   "metadata": {},
   "source": [
    "- The \"fnlwgt\" column represents the final weight, which is a statistical weight assigned to each individual in the survey data. This weight is often used to adjust for sampling biases and make the data more representative of the target population. \n",
    "- Even though I do not have enough domain knowledge to fully understand what fnlwgt but I decided to keep it since it probably might provide insights into its relevance and usefulness.\n",
    "\n"
   ]
  },
  {
   "cell_type": "code",
   "execution_count": 9,
   "id": "5298882f",
   "metadata": {},
   "outputs": [
    {
     "name": "stdout",
     "output_type": "stream",
     "text": [
      "[1] \"workclass\"      \"occupation\"     \"native.country\"\n"
     ]
    }
   ],
   "source": [
    "columns_with_null <- colnames(data)[apply(data == \"?\", 2, any)]\n",
    "\n",
    "# Display the columns with null values\n",
    "print(columns_with_null)"
   ]
  },
  {
   "cell_type": "code",
   "execution_count": 11,
   "id": "49163251",
   "metadata": {},
   "outputs": [
    {
     "data": {
      "text/html": [
       "<style>\n",
       ".list-inline {list-style: none; margin:0; padding: 0}\n",
       ".list-inline>li {display: inline-block}\n",
       ".list-inline>li:not(:last-child)::after {content: \"\\00b7\"; padding: 0 .5ex}\n",
       "</style>\n",
       "<ol class=list-inline><li>'Private'</li><li>'Private'</li><li>'Local-gov'</li><li>'Private'</li><li>'?'</li><li>'Private'</li></ol>\n"
      ],
      "text/latex": [
       "\\begin{enumerate*}\n",
       "\\item 'Private'\n",
       "\\item 'Private'\n",
       "\\item 'Local-gov'\n",
       "\\item 'Private'\n",
       "\\item '?'\n",
       "\\item 'Private'\n",
       "\\end{enumerate*}\n"
      ],
      "text/markdown": [
       "1. 'Private'\n",
       "2. 'Private'\n",
       "3. 'Local-gov'\n",
       "4. 'Private'\n",
       "5. '?'\n",
       "6. 'Private'\n",
       "\n",
       "\n"
      ],
      "text/plain": [
       "[1] \"Private\"   \"Private\"   \"Local-gov\" \"Private\"   \"?\"         \"Private\"  "
      ]
     },
     "metadata": {},
     "output_type": "display_data"
    }
   ],
   "source": [
    "head(data$workclass)"
   ]
  },
  {
   "cell_type": "code",
   "execution_count": 12,
   "id": "8dda0d5e",
   "metadata": {},
   "outputs": [
    {
     "data": {
      "text/html": [
       "<style>\n",
       ".list-inline {list-style: none; margin:0; padding: 0}\n",
       ".list-inline>li {display: inline-block}\n",
       ".list-inline>li:not(:last-child)::after {content: \"\\00b7\"; padding: 0 .5ex}\n",
       "</style>\n",
       "<ol class=list-inline><li>'Machine-op-inspct'</li><li>'Farming-fishing'</li><li>'Protective-serv'</li><li>'Machine-op-inspct'</li><li>'?'</li><li>'Other-service'</li></ol>\n"
      ],
      "text/latex": [
       "\\begin{enumerate*}\n",
       "\\item 'Machine-op-inspct'\n",
       "\\item 'Farming-fishing'\n",
       "\\item 'Protective-serv'\n",
       "\\item 'Machine-op-inspct'\n",
       "\\item '?'\n",
       "\\item 'Other-service'\n",
       "\\end{enumerate*}\n"
      ],
      "text/markdown": [
       "1. 'Machine-op-inspct'\n",
       "2. 'Farming-fishing'\n",
       "3. 'Protective-serv'\n",
       "4. 'Machine-op-inspct'\n",
       "5. '?'\n",
       "6. 'Other-service'\n",
       "\n",
       "\n"
      ],
      "text/plain": [
       "[1] \"Machine-op-inspct\" \"Farming-fishing\"   \"Protective-serv\"  \n",
       "[4] \"Machine-op-inspct\" \"?\"                 \"Other-service\"    "
      ]
     },
     "metadata": {},
     "output_type": "display_data"
    }
   ],
   "source": [
    "head(data$occupation)"
   ]
  },
  {
   "cell_type": "code",
   "execution_count": 13,
   "id": "13abef01",
   "metadata": {},
   "outputs": [
    {
     "data": {
      "text/html": [
       "<style>\n",
       ".list-inline {list-style: none; margin:0; padding: 0}\n",
       ".list-inline>li {display: inline-block}\n",
       ".list-inline>li:not(:last-child)::after {content: \"\\00b7\"; padding: 0 .5ex}\n",
       "</style>\n",
       "<ol class=list-inline><li>'United-States'</li><li>'United-States'</li><li>'United-States'</li><li>'United-States'</li><li>'United-States'</li><li>'United-States'</li></ol>\n"
      ],
      "text/latex": [
       "\\begin{enumerate*}\n",
       "\\item 'United-States'\n",
       "\\item 'United-States'\n",
       "\\item 'United-States'\n",
       "\\item 'United-States'\n",
       "\\item 'United-States'\n",
       "\\item 'United-States'\n",
       "\\end{enumerate*}\n"
      ],
      "text/markdown": [
       "1. 'United-States'\n",
       "2. 'United-States'\n",
       "3. 'United-States'\n",
       "4. 'United-States'\n",
       "5. 'United-States'\n",
       "6. 'United-States'\n",
       "\n",
       "\n"
      ],
      "text/plain": [
       "[1] \"United-States\" \"United-States\" \"United-States\" \"United-States\"\n",
       "[5] \"United-States\" \"United-States\""
      ]
     },
     "metadata": {},
     "output_type": "display_data"
    }
   ],
   "source": [
    "head(data$native.country)"
   ]
  },
  {
   "cell_type": "markdown",
   "id": "9754deb3",
   "metadata": {},
   "source": [
    "- We will replace those null values represented by \"?\" with \"NA\""
   ]
  },
  {
   "cell_type": "code",
   "execution_count": 26,
   "id": "9db48e52",
   "metadata": {},
   "outputs": [],
   "source": [
    "data$workclass[data$workclass == \"?\"] <- NA\n",
    "data$occupation[data$occupation == \"?\"] <- NA\n",
    "data$native.country[data$native.country == \"?\"] <- NA"
   ]
  },
  {
   "cell_type": "code",
   "execution_count": 25,
   "id": "20c611a3",
   "metadata": {},
   "outputs": [
    {
     "data": {
      "text/html": [
       "<style>\n",
       ".list-inline {list-style: none; margin:0; padding: 0}\n",
       ".list-inline>li {display: inline-block}\n",
       ".list-inline>li:not(:last-child)::after {content: \"\\00b7\"; padding: 0 .5ex}\n",
       "</style>\n",
       "<ol class=list-inline><li>'Private'</li><li>'Private'</li><li>'Local-gov'</li><li>'Private'</li><li>NA</li><li>'Private'</li></ol>\n"
      ],
      "text/latex": [
       "\\begin{enumerate*}\n",
       "\\item 'Private'\n",
       "\\item 'Private'\n",
       "\\item 'Local-gov'\n",
       "\\item 'Private'\n",
       "\\item NA\n",
       "\\item 'Private'\n",
       "\\end{enumerate*}\n"
      ],
      "text/markdown": [
       "1. 'Private'\n",
       "2. 'Private'\n",
       "3. 'Local-gov'\n",
       "4. 'Private'\n",
       "5. NA\n",
       "6. 'Private'\n",
       "\n",
       "\n"
      ],
      "text/plain": [
       "[1] \"Private\"   \"Private\"   \"Local-gov\" \"Private\"   NA          \"Private\"  "
      ]
     },
     "metadata": {},
     "output_type": "display_data"
    }
   ],
   "source": [
    "#test\n",
    "head(data$workclass)"
   ]
  },
  {
   "cell_type": "markdown",
   "id": "34c3bcb3",
   "metadata": {},
   "source": [
    "#### Double check for null values"
   ]
  },
  {
   "cell_type": "code",
   "execution_count": 27,
   "id": "f6dbec8f",
   "metadata": {},
   "outputs": [
    {
     "data": {
      "text/html": [
       "<style>\n",
       ".dl-inline {width: auto; margin:0; padding: 0}\n",
       ".dl-inline>dt, .dl-inline>dd {float: none; width: auto; display: inline-block}\n",
       ".dl-inline>dt::after {content: \":\\0020\"; padding-right: .5ex}\n",
       ".dl-inline>dt:not(:first-of-type) {padding-left: .5ex}\n",
       "</style><dl class=dl-inline><dt>age</dt><dd>0</dd><dt>workclass</dt><dd>2799</dd><dt>fnlwgt</dt><dd>0</dd><dt>education</dt><dd>0</dd><dt>educational.num</dt><dd>0</dd><dt>marital.status</dt><dd>0</dd><dt>occupation</dt><dd>2809</dd><dt>relationship</dt><dd>0</dd><dt>race</dt><dd>0</dd><dt>gender</dt><dd>0</dd><dt>capital.gain</dt><dd>0</dd><dt>capital.loss</dt><dd>0</dd><dt>hours.per.week</dt><dd>0</dd><dt>native.country</dt><dd>857</dd><dt>income</dt><dd>0</dd></dl>\n"
      ],
      "text/latex": [
       "\\begin{description*}\n",
       "\\item[age] 0\n",
       "\\item[workclass] 2799\n",
       "\\item[fnlwgt] 0\n",
       "\\item[education] 0\n",
       "\\item[educational.num] 0\n",
       "\\item[marital.status] 0\n",
       "\\item[occupation] 2809\n",
       "\\item[relationship] 0\n",
       "\\item[race] 0\n",
       "\\item[gender] 0\n",
       "\\item[capital.gain] 0\n",
       "\\item[capital.loss] 0\n",
       "\\item[hours.per.week] 0\n",
       "\\item[native.country] 857\n",
       "\\item[income] 0\n",
       "\\end{description*}\n"
      ],
      "text/markdown": [
       "age\n",
       ":   0workclass\n",
       ":   2799fnlwgt\n",
       ":   0education\n",
       ":   0educational.num\n",
       ":   0marital.status\n",
       ":   0occupation\n",
       ":   2809relationship\n",
       ":   0race\n",
       ":   0gender\n",
       ":   0capital.gain\n",
       ":   0capital.loss\n",
       ":   0hours.per.week\n",
       ":   0native.country\n",
       ":   857income\n",
       ":   0\n",
       "\n"
      ],
      "text/plain": [
       "            age       workclass          fnlwgt       education educational.num \n",
       "              0            2799               0               0               0 \n",
       " marital.status      occupation    relationship            race          gender \n",
       "              0            2809               0               0               0 \n",
       "   capital.gain    capital.loss  hours.per.week  native.country          income \n",
       "              0               0               0             857               0 "
      ]
     },
     "metadata": {},
     "output_type": "display_data"
    }
   ],
   "source": [
    "colSums(is.na(data))"
   ]
  },
  {
   "cell_type": "markdown",
   "id": "8a98f48c",
   "metadata": {},
   "source": [
    "From the result we now got the dataset with none of the incorrect values. "
   ]
  },
  {
   "cell_type": "markdown",
   "id": "c8f152ce",
   "metadata": {},
   "source": [
    "### Dataset description"
   ]
  },
  {
   "cell_type": "markdown",
   "id": "120b8a42",
   "metadata": {},
   "source": [
    "- age: The age of the individual.\n",
    "- workclass: The type of workclass or employment status of the individual.\n",
    "- fnlwgt: A weighting factor used in statistical calculations\n",
    "- education: The highest level of education completed by the individual.\n",
    "- educational.num: The number of years of education completed by the individual.\n",
    "- marital.status: The marital status of the individual.\n",
    "- occupation: The occupation of the individual.\n",
    "- relationship: The relationship status of the individual.\n",
    "- race: The race of the individual.\n",
    "- gender: The gender of the individual.\n",
    "- capital.gain: The amount of capital gains for the individual.\n",
    "- capital.loss: The amount of capital losses for the individual.\n",
    "- hours.per.week: The number of hours worked per week by the individual.\n",
    "- native.country: The native country of the individual.\n",
    "- income: The income level of the individual, categorized as either \"<=50K\" or \">50K\""
   ]
  },
  {
   "cell_type": "markdown",
   "id": "8089882a",
   "metadata": {},
   "source": [
    "### Detect and remove outliers"
   ]
  },
  {
   "cell_type": "code",
   "execution_count": 18,
   "id": "204988a2",
   "metadata": {},
   "outputs": [
    {
     "data": {
      "text/html": [
       "<style>\n",
       ".list-inline {list-style: none; margin:0; padding: 0}\n",
       ".list-inline>li {display: inline-block}\n",
       ".list-inline>li:not(:last-child)::after {content: \"\\00b7\"; padding: 0 .5ex}\n",
       "</style>\n",
       "<ol class=list-inline><li>48842</li><li>15</li></ol>\n"
      ],
      "text/latex": [
       "\\begin{enumerate*}\n",
       "\\item 48842\n",
       "\\item 15\n",
       "\\end{enumerate*}\n"
      ],
      "text/markdown": [
       "1. 48842\n",
       "2. 15\n",
       "\n",
       "\n"
      ],
      "text/plain": [
       "[1] 48842    15"
      ]
     },
     "metadata": {},
     "output_type": "display_data"
    }
   ],
   "source": [
    "dim(data)"
   ]
  },
  {
   "cell_type": "code",
   "execution_count": 22,
   "id": "ad127f53",
   "metadata": {},
   "outputs": [
    {
     "data": {
      "image/png": "[encoded data removed]",
      "text/plain": [
       "plot without title"
      ]
     },
     "metadata": {
      "image/png": {
       "height": 420,
       "width": 420
      }
     },
     "output_type": "display_data"
    }
   ],
   "source": [
    "boxplot(data$age)"
   ]
  },
  {
   "cell_type": "code",
   "execution_count": 30,
   "id": "6410ff2f",
   "metadata": {},
   "outputs": [],
   "source": [
    "# Age column\n",
    "Q1_age <- quantile(data$age, 0.25)\n",
    "Q3_age <- quantile(data$age, 0.75)\n",
    "\n",
    "# Calculate IQR for 'age'\n",
    "IQR_age <- Q3_age - Q1_age\n",
    "\n",
    "# Define lower and upper boundaries\n",
    "lower_bound_age <- Q1_age - 1.5 * IQR_age\n",
    "upper_bound_age <- Q3_age + 1.5 * IQR_age\n",
    "\n",
    "# Detect and remove outliers for 'age'\n",
    "filtered_data <- data[data$age > lower_bound_age & data$age < upper_bound_age, ]\n"
   ]
  },
  {
   "cell_type": "code",
   "execution_count": 31,
   "id": "bdd18d99",
   "metadata": {},
   "outputs": [
    {
     "data": {
      "image/png": "[encoded data removed]",
      "text/plain": [
       "plot without title"
      ]
     },
     "metadata": {
      "image/png": {
       "height": 420,
       "width": 420
      }
     },
     "output_type": "display_data"
    }
   ],
   "source": [
    "boxplot(filtered_data$age)"
   ]
  },
  {
   "cell_type": "code",
   "execution_count": 37,
   "id": "59b3d08a",
   "metadata": {},
   "outputs": [
    {
     "data": {
      "image/png": "[encoded data removed]",
      "text/plain": [
       "plot without title"
      ]
     },
     "metadata": {
      "image/png": {
       "height": 420,
       "width": 420
      }
     },
     "output_type": "display_data"
    },
    {
     "data": {
      "image/png": "[encoded data removed]",
      "text/plain": [
       "plot without title"
      ]
     },
     "metadata": {
      "image/png": {
       "height": 420,
       "width": 420
      }
     },
     "output_type": "display_data"
    },
    {
     "data": {
      "image/png": "[encoded data removed]",
      "text/plain": [
       "plot without title"
      ]
     },
     "metadata": {
      "image/png": {
       "height": 420,
       "width": 420
      }
     },
     "output_type": "display_data"
    },
    {
     "data": {
      "image/png": "[encoded data removed]",
      "text/plain": [
       "plot without title"
      ]
     },
     "metadata": {
      "image/png": {
       "height": 420,
       "width": 420
      }
     },
     "output_type": "display_data"
    },
    {
     "data": {
      "image/png": "[encoded data removed]",
      "text/plain": [
       "plot without title"
      ]
     },
     "metadata": {
      "image/png": {
       "height": 420,
       "width": 420
      }
     },
     "output_type": "display_data"
    },
    {
     "data": {
      "image/png": "[encoded data removed]",
      "text/plain": [
       "plot without title"
      ]
     },
     "metadata": {
      "image/png": {
       "height": 420,
       "width": 420
      }
     },
     "output_type": "display_data"
    }
   ],
   "source": [
    "boxplot(data$age)\n",
    "boxplot(data$fnlwgt)\n",
    "boxplot(data$educational.num)\n",
    "boxplot(data$capital.gain)\n",
    "boxplot(data$capital.loss)\n",
    "boxplot(data$hours.per.week)\n"
   ]
  },
  {
   "cell_type": "code",
   "execution_count": 38,
   "id": "c7c3007a",
   "metadata": {},
   "outputs": [
    {
     "data": {
      "image/png": "[encoded data removed]",
      "text/plain": [
       "Plot with title \"hours.per.week\""
      ]
     },
     "metadata": {
      "image/png": {
       "height": 420,
       "width": 420
      }
     },
     "output_type": "display_data"
    }
   ],
   "source": [
    "# Define a function to detect and remove outliers using IQR\n",
    "remove_outliers <- function(data, column) {\n",
    "  Q1 <- quantile(data[[column]], 0.25)\n",
    "  Q3 <- quantile(data[[column]], 0.75)\n",
    "  IQR_val <- Q3 - Q1\n",
    "  lower_bound <- Q1 - 1.5 * IQR_val\n",
    "  upper_bound <- Q3 + 1.5 * IQR_val\n",
    "  return(data[data[[column]] >= lower_bound & data[[column]] <= upper_bound, ])\n",
    "}\n",
    "\n",
    "# List of numerical columns\n",
    "numerical_columns <- c(\"age\", \"fnlwgt\", \"educational.num\", \"capital.gain\", \"capital.loss\", \"hours.per.week\")\n",
    "\n",
    "# Create boxplots and remove outliers for all numerical columns\n",
    "par(mfrow=c(2, 3))  # Adjust the layout based on the number of numerical columns\n",
    "\n",
    "for (col in numerical_columns) {\n",
    "  # Remove outliers\n",
    "  filtered_data <- remove_outliers(data, col)\n",
    "  \n",
    "  # Create a boxplot\n",
    "  boxplot(filtered_data[[col]], main = col, ylab = col)\n",
    "}\n",
    "\n",
    "# Reset the plot layout\n",
    "par(mfrow=c(1, 1))\n"
   ]
  },
  {
   "cell_type": "markdown",
   "id": "8ba2d531",
   "metadata": {},
   "source": [
    "### Installing packages"
   ]
  },
  {
   "cell_type": "code",
   "execution_count": 40,
   "id": "2bfec175",
   "metadata": {},
   "outputs": [
    {
     "name": "stderr",
     "output_type": "stream",
     "text": [
      "Installing package into 'C:/Users/phuon/AppData/Local/R/win-library/4.3'\n",
      "(as 'lib' is unspecified)\n",
      "\n",
      "also installing the dependencies 'listenv', 'parallelly', 'future', 'globals', 'future.apply', 'progressr', 'SQUAREM', 'diagram', 'lava', 'prodlim', 'clock', 'gower', 'hardhat', 'ipred', 'timeDate', 'e1071', 'ModelMetrics', 'pROC', 'recipes'\n",
      "\n",
      "\n"
     ]
    },
    {
     "name": "stdout",
     "output_type": "stream",
     "text": [
      "package 'listenv' successfully unpacked and MD5 sums checked\n",
      "package 'parallelly' successfully unpacked and MD5 sums checked\n",
      "package 'future' successfully unpacked and MD5 sums checked\n",
      "package 'globals' successfully unpacked and MD5 sums checked\n",
      "package 'future.apply' successfully unpacked and MD5 sums checked\n",
      "package 'progressr' successfully unpacked and MD5 sums checked\n",
      "package 'SQUAREM' successfully unpacked and MD5 sums checked\n",
      "package 'diagram' successfully unpacked and MD5 sums checked\n",
      "package 'lava' successfully unpacked and MD5 sums checked\n",
      "package 'prodlim' successfully unpacked and MD5 sums checked\n",
      "package 'clock' successfully unpacked and MD5 sums checked\n",
      "package 'gower' successfully unpacked and MD5 sums checked\n",
      "package 'hardhat' successfully unpacked and MD5 sums checked\n",
      "package 'ipred' successfully unpacked and MD5 sums checked\n",
      "package 'timeDate' successfully unpacked and MD5 sums checked\n",
      "package 'e1071' successfully unpacked and MD5 sums checked\n",
      "package 'ModelMetrics' successfully unpacked and MD5 sums checked\n",
      "package 'pROC' successfully unpacked and MD5 sums checked\n",
      "package 'recipes' successfully unpacked and MD5 sums checked\n",
      "package 'caret' successfully unpacked and MD5 sums checked\n",
      "\n",
      "The downloaded binary packages are in\n",
      "\tC:\\Users\\phuon\\AppData\\Local\\Temp\\RtmpczQJSi\\downloaded_packages\n"
     ]
    }
   ],
   "source": [
    "install.packages(\"caret\")"
   ]
  },
  {
   "cell_type": "code",
   "execution_count": 42,
   "id": "eade8842",
   "metadata": {},
   "outputs": [],
   "source": [
    "library(caret)\n",
    "library(ggplot2)"
   ]
  },
  {
   "cell_type": "code",
   "execution_count": 92,
   "id": "c1dc1777",
   "metadata": {},
   "outputs": [],
   "source": [
    "index <- sample(1:nrow(data), size = 0.3*nrow(data))\n",
    "\n",
    "# 30% for test and 70% for training \n",
    "knn_test <- data[index,]\n",
    "knn_train <- data[-index,]"
   ]
  },
  {
   "cell_type": "code",
   "execution_count": 45,
   "id": "50aed2c8",
   "metadata": {},
   "outputs": [
    {
     "data": {
      "text/html": [
       "<style>\n",
       ".list-inline {list-style: none; margin:0; padding: 0}\n",
       ".list-inline>li {display: inline-block}\n",
       ".list-inline>li:not(:last-child)::after {content: \"\\00b7\"; padding: 0 .5ex}\n",
       "</style>\n",
       "<ol class=list-inline><li>14652</li><li>15</li></ol>\n"
      ],
      "text/latex": [
       "\\begin{enumerate*}\n",
       "\\item 14652\n",
       "\\item 15\n",
       "\\end{enumerate*}\n"
      ],
      "text/markdown": [
       "1. 14652\n",
       "2. 15\n",
       "\n",
       "\n"
      ],
      "text/plain": [
       "[1] 14652    15"
      ]
     },
     "metadata": {},
     "output_type": "display_data"
    }
   ],
   "source": [
    "dim(knn_test)"
   ]
  },
  {
   "cell_type": "code",
   "execution_count": 93,
   "id": "3eaa8537",
   "metadata": {},
   "outputs": [
    {
     "data": {
      "text/html": [
       "<style>\n",
       ".list-inline {list-style: none; margin:0; padding: 0}\n",
       ".list-inline>li {display: inline-block}\n",
       ".list-inline>li:not(:last-child)::after {content: \"\\00b7\"; padding: 0 .5ex}\n",
       "</style>\n",
       "<ol class=list-inline><li>34190</li><li>15</li></ol>\n"
      ],
      "text/latex": [
       "\\begin{enumerate*}\n",
       "\\item 34190\n",
       "\\item 15\n",
       "\\end{enumerate*}\n"
      ],
      "text/markdown": [
       "1. 34190\n",
       "2. 15\n",
       "\n",
       "\n"
      ],
      "text/plain": [
       "[1] 34190    15"
      ]
     },
     "metadata": {},
     "output_type": "display_data"
    }
   ],
   "source": [
    "dim(knn_train)"
   ]
  },
  {
   "cell_type": "markdown",
   "id": "d3d24a53",
   "metadata": {},
   "source": [
    "### Finding k-Value "
   ]
  },
  {
   "cell_type": "code",
   "execution_count": 94,
   "id": "2cd11c89",
   "metadata": {},
   "outputs": [
    {
     "name": "stderr",
     "output_type": "stream",
     "text": [
      "Warning message:\n",
      "\"Quick-TRANSfer stage steps exceeded maximum (= 1709500)\"\n",
      "Warning message:\n",
      "\"Quick-TRANSfer stage steps exceeded maximum (= 1709500)\"\n",
      "Warning message:\n",
      "\"Quick-TRANSfer stage steps exceeded maximum (= 1709500)\"\n",
      "Warning message:\n",
      "\"Quick-TRANSfer stage steps exceeded maximum (= 1709500)\"\n",
      "Warning message:\n",
      "\"Quick-TRANSfer stage steps exceeded maximum (= 1709500)\"\n",
      "Warning message:\n",
      "\"Quick-TRANSfer stage steps exceeded maximum (= 1709500)\"\n",
      "Warning message:\n",
      "\"Quick-TRANSfer stage steps exceeded maximum (= 1709500)\"\n",
      "Warning message:\n",
      "\"Quick-TRANSfer stage steps exceeded maximum (= 1709500)\"\n",
      "Warning message:\n",
      "\"Quick-TRANSfer stage steps exceeded maximum (= 1709500)\"\n",
      "Warning message:\n",
      "\"Quick-TRANSfer stage steps exceeded maximum (= 1709500)\"\n",
      "Warning message:\n",
      "\"Quick-TRANSfer stage steps exceeded maximum (= 1709500)\"\n"
     ]
    },
    {
     "data": {
      "image/png": "[encoded data removed]",
      "text/plain": [
       "Plot with title \"Clusters\""
      ]
     },
     "metadata": {
      "image/png": {
       "height": 420,
       "width": 420
      }
     },
     "output_type": "display_data"
    }
   ],
   "source": [
    "set.seed(123)\n",
    "\n",
    "# Select only numerical columns from knn_train\n",
    "numerical_cols <- sapply(knn_train, is.numeric)\n",
    "knn_train <- knn_train[, numerical_cols]\n",
    "\n",
    "wcss <- vector()\n",
    "\n",
    "# Perform k-means clustering\n",
    "for (i in 1:25) {\n",
    "  wcss[i] <- sum(kmeans(knn_train, centers = i)$tot.withinss)\n",
    "}\n",
    "\n",
    "# Plot the Within-Cluster-Sum-of-Squares (WCSS)\n",
    "plot(1:25, wcss, type = 'b', main = 'Clusters', xlab = '# of clusters', ylab = 'WCSS')\n"
   ]
  },
  {
   "cell_type": "markdown",
   "id": "1550908b",
   "metadata": {},
   "source": [
    "After k = 10, the error rate seems to be stopped. Therfore, I'll assume that k = 10."
   ]
  },
  {
   "cell_type": "markdown",
   "id": "e8cac66e",
   "metadata": {},
   "source": [
    "### Creating the model"
   ]
  },
  {
   "cell_type": "markdown",
   "id": "3efef13b",
   "metadata": {},
   "source": [
    "Because the target column has the data type is char so I will convert it into numrical by assigning \"<=50K\" is 0 and \">=50K\" is 1."
   ]
  },
  {
   "cell_type": "code",
   "execution_count": 69,
   "id": "6629f5de",
   "metadata": {},
   "outputs": [],
   "source": [
    "# Convert income column to numerical values\n",
    "data$income <- ifelse(data$income == \"<=50K\", 0, 1)"
   ]
  },
  {
   "cell_type": "code",
   "execution_count": 67,
   "id": "1455c269",
   "metadata": {},
   "outputs": [],
   "source": [
    "target_test <- data[index, 15]\n",
    "target_train <- data[-index, 15]"
   ]
  },
  {
   "cell_type": "code",
   "execution_count": 97,
   "id": "7ffb079e",
   "metadata": {},
   "outputs": [
    {
     "name": "stdout",
     "output_type": "stream",
     "text": [
      "[1] 34190\n"
     ]
    }
   ],
   "source": [
    "print(length(target_train))"
   ]
  },
  {
   "cell_type": "code",
   "execution_count": 100,
   "id": "00b319a9",
   "metadata": {},
   "outputs": [],
   "source": [
    "numerical_cols_test <- sapply(knn_test, is.numeric)\n",
    "knn_test <- knn_test[, numerical_cols_test]"
   ]
  },
  {
   "cell_type": "code",
   "execution_count": 77,
   "id": "8df5e5e0",
   "metadata": {},
   "outputs": [],
   "source": [
    "library(class)"
   ]
  },
  {
   "cell_type": "code",
   "execution_count": 102,
   "id": "da50c2f2",
   "metadata": {},
   "outputs": [],
   "source": [
    "knn_model <- knn(train = knn_train, test = knn_test, cl = target_train, k = 10)"
   ]
  },
  {
   "cell_type": "code",
   "execution_count": 105,
   "id": "71daf2b9",
   "metadata": {},
   "outputs": [
    {
     "name": "stderr",
     "output_type": "stream",
     "text": [
      "Installing package into 'C:/Users/phuon/AppData/Local/R/win-library/4.3'\n",
      "(as 'lib' is unspecified)\n",
      "\n",
      "also installing the dependencies 'gtools', 'gdata'\n",
      "\n",
      "\n"
     ]
    },
    {
     "name": "stdout",
     "output_type": "stream",
     "text": [
      "package 'gtools' successfully unpacked and MD5 sums checked\n",
      "package 'gdata' successfully unpacked and MD5 sums checked\n",
      "package 'gmodels' successfully unpacked and MD5 sums checked\n",
      "\n",
      "The downloaded binary packages are in\n",
      "\tC:\\Users\\phuon\\AppData\\Local\\Temp\\RtmpczQJSi\\downloaded_packages\n"
     ]
    }
   ],
   "source": [
    "install.packages(\"gmodels\")\n",
    "library(gmodels)"
   ]
  },
  {
   "cell_type": "code",
   "execution_count": 106,
   "id": "a89fd606",
   "metadata": {},
   "outputs": [
    {
     "name": "stdout",
     "output_type": "stream",
     "text": [
      "\n",
      " \n",
      "   Cell Contents\n",
      "|-------------------------|\n",
      "|                       N |\n",
      "|           N / Row Total |\n",
      "|           N / Col Total |\n",
      "|         N / Table Total |\n",
      "|-------------------------|\n",
      "\n",
      " \n",
      "Total Observations in Table:  14652 \n",
      "\n",
      " \n",
      "             | knn_model \n",
      " target_test |         0 |         1 | Row Total | \n",
      "-------------|-----------|-----------|-----------|\n",
      "           0 |     10649 |       497 |     11146 | \n",
      "             |     0.955 |     0.045 |     0.761 | \n",
      "             |     0.759 |     0.806 |           | \n",
      "             |     0.727 |     0.034 |           | \n",
      "-------------|-----------|-----------|-----------|\n",
      "           1 |      3386 |       120 |      3506 | \n",
      "             |     0.966 |     0.034 |     0.239 | \n",
      "             |     0.241 |     0.194 |           | \n",
      "             |     0.231 |     0.008 |           | \n",
      "-------------|-----------|-----------|-----------|\n",
      "Column Total |     14035 |       617 |     14652 | \n",
      "             |     0.958 |     0.042 |           | \n",
      "-------------|-----------|-----------|-----------|\n",
      "\n",
      " \n"
     ]
    }
   ],
   "source": [
    "CrossTable(x = target_test, y = knn_model, prop.chisq=FALSE)"
   ]
  },
  {
   "cell_type": "markdown",
   "id": "7d3c0b9c",
   "metadata": {},
   "source": [
    "## Interpretation"
   ]
  },
  {
   "cell_type": "markdown",
   "id": "9d66403a",
   "metadata": {},
   "source": [
    "There are 14654 observations in the test. With the crosstable's result,we can tell that the knn model predicts pretty accurate. \n",
    "There are (10649 +  617) correct predictions oout of total of 14654 observations. \n",
    "\n",
    "In the cell where the actual label is 0 and the predicted label is 1, the count is 497.\n",
    "In the cell where the actual label is 1 and the predicted label is 0, the count is 3,386.\n",
    "In the cell where the actual label is 1 and the predicted label is 1, the count is 120.\n",
    "N / Row Total:\n",
    "\n",
    "In the first row, which represents the actual label 0, 95.5% of the observations (10,649 out of 11,146) were correctly predicted as label 0, and 4.5% (497 out of 11,146) were misclassified as label 1.\n",
    "In the second row, which represents the actual label 1, 96.6% of the observations (3,386 out of 3,506) were correctly predicted as label 1, and 3.4% (120 out of 3,506) were misclassified as label 0.\n",
    "N / Col Total:\n",
    "\n",
    "In the first column, which represents the predicted label 0, 75.9% of the observations (10,649 out of 14,035) were correctly classified as label 0, and 24.1% (3,386 out of 14,035) were misclassified as label 1.\n",
    "In the second column, which represents the predicted label 1, 80.6% of the observations (497 out of 617) were correctly classified as label 1, and 19.4% (120 out of 617) were misclassified as label 0.\n",
    "N / Table Total:\n",
    "\n",
    "In the cell where both the actual and predicted labels are 0, 72.7% of all observations (10,649 out of 14,652) fall into this category.\n",
    "In the cell where both the actual and predicted labels are 1, 0.8% of all observations (120 out of 14,652) fall into this category."
   ]
  }
 ],
 "metadata": {
  "kernelspec": {
   "display_name": "R",
   "language": "R",
   "name": "ir"
  },
  "language_info": {
   "codemirror_mode": "r",
   "file_extension": ".r",
   "mimetype": "text/x-r-source",
   "name": "R",
   "pygments_lexer": "r",
   "version": "4.3.1"
  }
 },
 "nbformat": 4,
 "nbformat_minor": 5
}
